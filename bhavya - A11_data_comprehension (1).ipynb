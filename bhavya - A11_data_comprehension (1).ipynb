{
 "cells": [
  {
   "cell_type": "markdown",
   "metadata": {
    "id": "-ZHVRHMui18N"
   },
   "source": [
    "# Data comprehension\n",
    "Practice working with list comprehension, dictionary comprehension and set comprehension following Lec 11"
   ]
  },
  {
   "cell_type": "markdown",
   "metadata": {
    "id": "INt5QZg_yTgG"
   },
   "source": [
    "**Ques 1:**\n",
    "You are given the list below, make column 0(the words) the key for a dictionary with the values as the rest of the list.\n",
    "\n",
    "```\n",
    "list_pos = [\n",
    "    ['drawer', 141, 2, 3],\n",
    "    ['hedge', 213, 1, 6],\n",
    "    ['pantry', 328, 1, 7]\n",
    "]\n",
    "\n",
    "list_pos\n",
    "\n",
    "# You output should be:\n",
    "\n",
    "{'drawer': [141, 2, 3], 'hedge': [213, 1, 6], 'pantry': [328, 1, 7]}\n",
    "\n",
    "```\n",
    "\n",
    "Requirement: Do both traditional loops and list comprehensions.\n"
   ]
  },
  {
   "cell_type": "code",
   "execution_count": 3,
   "metadata": {
    "colab": {
     "base_uri": "https://localhost:8080/"
    },
    "id": "dX7uE78eyTgD",
    "outputId": "e1c18986-5c9f-4fa4-8206-4c57d9e8b361"
   },
   "outputs": [
    {
     "name": "stdout",
     "output_type": "stream",
     "text": [
      "{'drawer': [141, 2, 3], 'hedge': [213, 1, 6], 'pantry': [328, 1, 7]}\n"
     ]
    }
   ],
   "source": [
    "#postion of a word in a dictionary\n",
    "list_pos = [\n",
    "    ['drawer', 141, 2, 3],\n",
    "    ['hedge', 213, 1, 6],\n",
    "    ['pantry', 328, 1, 7]\n",
    "]\n",
    "\n",
    "dict_pos = {}\n",
    "for item in list_pos:\n",
    "    key = item[0]\n",
    "    values = item[1:]\n",
    "    dict_pos[key] = values\n",
    "\n",
    "print(dict_pos)"
   ]
  },
  {
   "cell_type": "code",
   "execution_count": 5,
   "metadata": {
    "id": "s2cCUs6PWCtf"
   },
   "outputs": [
    {
     "name": "stdout",
     "output_type": "stream",
     "text": [
      "{'drawer': [141, 2, 3], 'hedge': [213, 1, 6], 'pantry': [328, 1, 7]}\n"
     ]
    }
   ],
   "source": [
    "# Solution\n",
    "dict_pos = {item[0]: item[1:] for item in list_pos}\n",
    "print(dict_pos)\n"
   ]
  },
  {
   "cell_type": "markdown",
   "metadata": {
    "id": "kPV7FgpUHdt-"
   },
   "source": [
    "**Ques 2:** You are given the dictionary below, combine the keys(the words) and the values inside the dictionary and create a list.\n",
    "\n",
    "You output should be:\n",
    "\n",
    "\n",
    "\n",
    "```\n",
    "dictionary_pos = {\n",
    "    'drawer': [141, 2, 3],\n",
    "    'hedge': [213, 1, 6],\n",
    "    'pantry': [328, 1, 7]\n",
    "}\n",
    "\n",
    "dictionary_pos\n",
    "\n",
    "# Your output should:\n",
    "\n",
    "[['drawer', 141, 2, 3], ['hedge', 213, 1, 6], ['pantry', 328, 1, 7]]\n",
    "```\n",
    "\n",
    "Requirement: Do both traditional loops and list comprehensions."
   ]
  },
  {
   "cell_type": "code",
   "execution_count": 7,
   "metadata": {
    "colab": {
     "base_uri": "https://localhost:8080/"
    },
    "id": "VL-scbyryTgJ",
    "outputId": "70a7b178-3862-4d17-b7cf-8210838567da"
   },
   "outputs": [
    {
     "name": "stdout",
     "output_type": "stream",
     "text": [
      "[['drawer', 141, 2, 3], ['hedge', 213, 1, 6], ['pantry', 328, 1, 7]]\n"
     ]
    }
   ],
   "source": [
    "#Your turn:\n",
    "#postion of a word in a dictionary\n",
    "dictionary_pos = {\n",
    "    'drawer': [141, 2, 3],\n",
    "    'hedge': [213, 1, 6],\n",
    "    'pantry': [328, 1, 7]\n",
    "}\n",
    "\n",
    "list_pos = []\n",
    "for key, values in dictionary_pos.items():\n",
    "    list_pos.append([key] + values)\n",
    "\n",
    "print(list_pos)"
   ]
  },
  {
   "cell_type": "code",
   "execution_count": 9,
   "metadata": {
    "id": "KfZIsa9DyTgK"
   },
   "outputs": [
    {
     "name": "stdout",
     "output_type": "stream",
     "text": [
      "[['drawer', 141, 2, 3], ['hedge', 213, 1, 6], ['pantry', 328, 1, 7]]\n"
     ]
    }
   ],
   "source": [
    "list_pos = [[key] + values for key, values in dictionary_pos.items()]\n",
    "print(list_pos)"
   ]
  },
  {
   "cell_type": "markdown",
   "metadata": {
    "id": "cvER6YXv4Id5"
   },
   "source": [
    "**Ques 3:** Use list comprehension to rewrite the code, it can be done in one line (and you do not even need an if statement)\n",
    "\n",
    "```\n",
    "result = []\n",
    "myList = list(range(0, 13))\n",
    "for i in range(6, len(myList)):\n",
    "    if i%2 == 0:\n",
    "        result.append(i)\n",
    "\n",
    "result\n",
    "```\n",
    "\n"
   ]
  },
  {
   "cell_type": "code",
   "execution_count": 11,
   "metadata": {
    "colab": {
     "base_uri": "https://localhost:8080/"
    },
    "id": "HGOnba_myTgM",
    "outputId": "b2981e7e-3b4d-4172-8435-8d43353a3cf2"
   },
   "outputs": [
    {
     "name": "stdout",
     "output_type": "stream",
     "text": [
      "[6, 8, 10, 12]\n"
     ]
    }
   ],
   "source": [
    "#Your Code:\n",
    "result = [i for i in range(6, 13, 2)]\n",
    "print(result)"
   ]
  },
  {
   "cell_type": "markdown",
   "metadata": {
    "id": "H7IAbiwH4i-D"
   },
   "source": [
    "**Ques 4a:** Use the following code to perform the tasks given below:\n",
    "\n",
    "\n",
    "\n",
    "```\n",
    "set_a = {1, 2, 3, \"a\", \"b\", \"c\"}\n",
    "set_b = {2, 3, 4, \"c\", \"d\"}\n",
    "set_c = {2, 3, 'd', \"t\", \"a\"}\n",
    "```\n",
    "\n"
   ]
  },
  {
   "cell_type": "code",
   "execution_count": 9,
   "metadata": {
    "colab": {
     "base_uri": "https://localhost:8080/"
    },
    "id": "CvrNavspyTgN",
    "outputId": "131e8ea4-f3b8-453c-8b61-5949e463d3e3"
   },
   "outputs": [
    {
     "name": "stdout",
     "output_type": "stream",
     "text": [
      "{4, 'd'}\n"
     ]
    }
   ],
   "source": [
    "# The follow code is supposed to return the different elements in both sets of union_ab and set_a but not both of them."
   ]
  },
  {
   "cell_type": "code",
   "execution_count": null,
   "metadata": {
    "colab": {
     "base_uri": "https://localhost:8080/"
    },
    "id": "iL4GrbZknT_y",
    "outputId": "4c2e884b-de6c-4295-cae2-9b5bb4c54ff0"
   },
   "outputs": [
    {
     "data": {
      "text/plain": [
       "{4, 'd'}"
      ]
     },
     "execution_count": 24,
     "metadata": {},
     "output_type": "execute_result"
    }
   ],
   "source": [
    "# Elements that occur just in set c and not in set a\n",
    "set_a = {1, 2, 3, \"a\", \"b\", \"c\"}\n",
    "set_b = {2, 3, 4, \"c\", \"d\"}\n",
    "set_c = {2, 3, \"d\", \"t\", \"a\"}\n",
    "\n",
    "union_ab = set_a | set_b  \n",
    "result = union_ab ^ set_a  \n",
    "\n",
    "print(result"
   ]
  },
  {
   "cell_type": "markdown",
   "metadata": {
    "id": "E7LmZQwT5Mhr"
   },
   "source": [
    "**Ques 4b:** This piece of code will work the same as which of the following options:\n",
    "\n",
    "\n",
    "```\n",
    "difference_A = []\n",
    "for a in set_c:\n",
    "  if(not(a in set_a)):\n",
    "    difference_A.append(a)\n",
    "\n",
    "print(difference_A)\n",
    "```\n",
    "\n"
   ]
  },
  {
   "cell_type": "code",
   "execution_count": 13,
   "metadata": {
    "colab": {
     "base_uri": "https://localhost:8080/"
    },
    "id": "FvUCzqZuyTgN",
    "outputId": "63aff495-adfe-4d78-8a7d-44b834723e08"
   },
   "outputs": [
    {
     "name": "stdout",
     "output_type": "stream",
     "text": [
      "['d', 't']\n"
     ]
    }
   ],
   "source": [
    "#Rewrite the code:\n",
    "difference_A = []\n",
    "for a in set_c:\n",
    "  if not (a in set_a):\n",
    "    difference_A.append(a)\n",
    "\n",
    "print(difference_A)\n",
    "\n",
    "\n",
    "#A) difference = union_ab | set_a\n",
    "\n",
    "#B) difference = set_a - union_ab\n",
    "\n",
    "#C) difference = union_ab ^ set_a\n"
   ]
  },
  {
   "cell_type": "markdown",
   "metadata": {
    "id": "i1TTuNdgyTgO"
   },
   "source": [
    "**Ques 5:** A procedural function called GC_content(data).\n",
    "Find the GC percentage for each of the elements in dna_list.\n",
    "data is the list, dna_list."
   ]
  },
  {
   "cell_type": "code",
   "execution_count": 9,
   "metadata": {
    "colab": {
     "base_uri": "https://localhost:8080/"
    },
    "id": "awvBHjfFyTgO",
    "outputId": "a0b9fdb3-a99d-44c6-b50a-7d13b70a0dd3"
   },
   "outputs": [],
   "source": [
    "dna_list = ['GAAGTC', 'CGATATGC', 'GTCA', 'CGGACAGTAG']\n"
   ]
  },
  {
   "cell_type": "code",
   "execution_count": 13,
   "metadata": {
    "colab": {
     "base_uri": "https://localhost:8080/"
    },
    "id": "NL90n2TOyTgO",
    "outputId": "0da6614d-6964-493b-b642-f15bfb083881"
   },
   "outputs": [
    {
     "name": "stdout",
     "output_type": "stream",
     "text": [
      "GAAGTC: 50.0\n",
      "CGATATGC: 50.0\n",
      "GTCA: 50.0\n",
      "CGGACAGTAG: 60.0\n"
     ]
    }
   ],
   "source": [
    "def GC_content(data):\n",
    "    for dna in data:\n",
    "        gc_count = dna.count('G') + dna.count('C')\n",
    "        gc_percentage = (gc_count / len(dna)) * 100 \n",
    "        print(f\"{dna}: {gc_percentage:.1f}\")  \n",
    "dna_list = ['GAAGTC', 'CGATATGC', 'GTCA', 'CGGACAGTAG']\n",
    "GC_content(dna_list)"
   ]
  },
  {
   "cell_type": "code",
   "execution_count": null,
   "metadata": {},
   "outputs": [],
   "source": []
  }
 ],
 "metadata": {
  "colab": {
   "provenance": []
  },
  "hide_input": false,
  "kernelspec": {
   "display_name": "Python 3 (ipykernel)",
   "language": "python",
   "name": "python3"
  },
  "language_info": {
   "codemirror_mode": {
    "name": "ipython",
    "version": 3
   },
   "file_extension": ".py",
   "mimetype": "text/x-python",
   "name": "python",
   "nbconvert_exporter": "python",
   "pygments_lexer": "ipython3",
   "version": "3.12.4"
  },
  "toc": {
   "base_numbering": 1,
   "nav_menu": {},
   "number_sections": true,
   "sideBar": true,
   "skip_h1_title": false,
   "title_cell": "Table of Contents",
   "title_sidebar": "Contents",
   "toc_cell": false,
   "toc_position": {},
   "toc_section_display": true,
   "toc_window_display": false
  }
 },
 "nbformat": 4,
 "nbformat_minor": 4
}

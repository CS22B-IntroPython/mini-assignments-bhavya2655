{
 "cells": [
  {
   "cell_type": "markdown",
   "metadata": {
    "id": "cP32wAV3Yi-4"
   },
   "source": [
    "##**Stack Questions**"
   ]
  },
  {
   "cell_type": "markdown",
   "metadata": {
    "id": "KqdNjm1oY_ss"
   },
   "source": [
    "## Question 1: Write a function to sort a stack."
   ]
  },
  {
   "cell_type": "code",
   "execution_count": 5,
   "metadata": {
    "id": "mb9K46p3Ym0N"
   },
   "outputs": [
    {
     "name": "stdout",
     "output_type": "stream",
     "text": [
      "[3, 23, 31, 34, 92, 98]\n"
     ]
    }
   ],
   "source": [
    "def sort_stack(stack):\n",
    "  # Your code here\n",
    "    if not stack:\n",
    "        return stack\n",
    "    \n",
    "    top = stack.pop()\n",
    "    \n",
    "    sort_stack(stack)\n",
    "    \n",
    "    temp_stack = []\n",
    "    while stack and stack[-1] > top:\n",
    "        temp_stack.append(stack.pop())\n",
    "    \n",
    "    stack.append(top)\n",
    "    \n",
    "    while temp_stack:\n",
    "        stack.append(temp_stack.pop())\n",
    "    \n",
    "    return stack\n",
    "\n",
    "stack = [34, 3, 31, 98, 92, 23]\n",
    "print(sort_stack(stack))"
   ]
  },
  {
   "cell_type": "markdown",
   "metadata": {
    "id": "jFxb6ss_Whwl"
   },
   "source": [
    "## Question 2: Depict the following image as a list.\n",
    "\n",
    "<img src=\"https://miro.medium.com/max/1050/1*XifPIMxbamGKhz5UAEdz2w.png\">\n",
    "\n",
    "#### Queue\n",
    "1. Add the number 9 to the list.\n",
    "2. Remove the first number (7) from the list.\n",
    "\n",
    "#### Stack\n",
    "3. Add the number 4 to the same list.\n",
    "4. Remove the last number added (4) from the list."
   ]
  },
  {
   "cell_type": "code",
   "execution_count": 11,
   "metadata": {
    "id": "XOm7YLTEWhwm"
   },
   "outputs": [
    {
     "name": "stdout",
     "output_type": "stream",
     "text": [
      "After adding 9:  [7, 3, 1, 6, 8, 9]\n",
      "After removing first element:  [3, 1, 6, 8, 9]\n",
      "After adding 4:  [3, 1, 6, 8, 9, 4]\n",
      "After removing last element:  [3, 1, 6, 8, 9]\n"
     ]
    }
   ],
   "source": [
    "#Your Answer:\n",
    "lst = [7, 3, 1, 6, 8]\n",
    "\n",
    "# Queue\n",
    "# 1\n",
    "lst.append(9)\n",
    "print(\"After adding 9: \", lst)\n",
    "\n",
    "# 2\n",
    "lst.pop(0)\n",
    "print(\"After removing first element: \", lst)\n",
    "\n",
    "# Stack \n",
    "# 3\n",
    "lst.append(4)\n",
    "print(\"After adding 4: \", lst)\n",
    "\n",
    "# 4\n",
    "lst.pop()\n",
    "print(\"After removing last element: \", lst)"
   ]
  },
  {
   "cell_type": "markdown",
   "metadata": {
    "id": "tQ3kgHVtWhwn"
   },
   "source": [
    "#### Question 3: Nodes\n",
    "\n",
    "<img src=\"https://encrypted-tbn0.gstatic.com/images?q=tbn:ANd9GcQW8-twGk0hCILE-muHBnG93hZJh2Qvgs7pVA&s\">\n",
    "\n",
    "1. Use a data structure of your choice to denote the different nodes.\n",
    "\n",
    "2. Create a function that sums all of the \"children\". Test with the node 10 (Expected answer is 37).\n"
   ]
  },
  {
   "cell_type": "code",
   "execution_count": 39,
   "metadata": {
    "id": "UU0rjzjXWhwn"
   },
   "outputs": [
    {
     "name": "stdout",
     "output_type": "stream",
     "text": [
      "Sum of node 10 and its nodes: 37\n"
     ]
    }
   ],
   "source": [
    "class TreeNode:\n",
    "    def __init__(self, value):\n",
    "        self.value = value\n",
    "        self.left = None\n",
    "        self.right = None\n",
    "\n",
    "# Create the tree structure\n",
    "root = TreeNode(8)\n",
    "root.left = TreeNode(3)\n",
    "root.right = TreeNode(10)\n",
    "\n",
    "root.left.left = TreeNode(1)\n",
    "root.left.right = TreeNode(6)\n",
    "root.left.right.left = TreeNode(4)\n",
    "root.left.right.right = TreeNode(7)\n",
    "\n",
    "root.right.right = TreeNode(14)\n",
    "root.right.right.left = TreeNode(13)\n",
    "\n",
    "\n",
    "def sum_nodes(node):\n",
    "    return node.value + sum_nodes(node.left) + sum_nodes(node.right)\n",
    "\n",
    "result = sum_nodes(root.right)  \n",
    "print(\"Sum of node 10 and its descendants:\", result)"
   ]
  },
  {
   "cell_type": "code",
   "execution_count": null,
   "metadata": {},
   "outputs": [],
   "source": []
  }
 ],
 "metadata": {
  "colab": {
   "provenance": []
  },
  "hide_input": false,
  "kernelspec": {
   "display_name": "Python 3 (ipykernel)",
   "language": "python",
   "name": "python3"
  },
  "language_info": {
   "codemirror_mode": {
    "name": "ipython",
    "version": 3
   },
   "file_extension": ".py",
   "mimetype": "text/x-python",
   "name": "python",
   "nbconvert_exporter": "python",
   "pygments_lexer": "ipython3",
   "version": "3.12.4"
  },
  "toc": {
   "base_numbering": 1,
   "nav_menu": {},
   "number_sections": true,
   "sideBar": true,
   "skip_h1_title": false,
   "title_cell": "Table of Contents",
   "title_sidebar": "Contents",
   "toc_cell": false,
   "toc_position": {},
   "toc_section_display": true,
   "toc_window_display": false
  }
 },
 "nbformat": 4,
 "nbformat_minor": 4
}
